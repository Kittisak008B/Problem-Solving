{
 "cells": [
  {
   "cell_type": "code",
   "execution_count": 1,
   "id": "ee13f461-ef8c-4e99-8e98-ccf1e6dc832a",
   "metadata": {},
   "outputs": [],
   "source": [
    "# 1002. Find Common Characters\n",
    "# Given a string array words, return an array of all characters that show up in all strings within the words (including duplicates). \n",
    "# You may return the answer in any order.\n",
    "\n",
    "# Example 1:\n",
    "# Input: words = [\"bella\",\"label\",\"roller\"]\n",
    "# Output: [\"e\",\"l\",\"l\"]\n",
    "\n",
    "# Example 2:\n",
    "# Input: words = [\"cool\",\"lock\",\"cook\"]\n",
    "# Output: [\"c\",\"o\"]\n"
   ]
  },
  {
   "cell_type": "code",
   "execution_count": 2,
   "id": "c5542fb2-b71d-4d00-895e-ffe82a61fe47",
   "metadata": {},
   "outputs": [],
   "source": [
    "def sol2(words) :\n",
    "    total_count = [10000]*26\n",
    "    for s in words :\n",
    "        count = [0] * 26\n",
    "        for c in s :\n",
    "            count[ord(c) - ord(\"a\")] += 1\n",
    "        print(f'count:{count}')\n",
    "        for i in range(26) :\n",
    "            total_count[i] = min(total_count[i] , count[i])\n",
    "    print(f'total count : {total_count}')\n",
    "    ans = []\n",
    "    for i in range(26) :\n",
    "        for _ in range(total_count[i]) :\n",
    "            ans.append(chr(i + ord(\"a\")))\n",
    "    return ans"
   ]
  },
  {
   "cell_type": "code",
   "execution_count": 3,
   "id": "acad9ee1-47e1-4fbd-bfe6-26e3af6143db",
   "metadata": {},
   "outputs": [
    {
     "name": "stdout",
     "output_type": "stream",
     "text": [
      "count:[1, 1, 0, 0, 1, 0, 0, 0, 0, 0, 0, 2, 0, 0, 0, 0, 0, 0, 0, 0, 0, 0, 0, 0, 0, 0]\n",
      "count:[1, 1, 0, 0, 1, 0, 0, 0, 0, 0, 0, 2, 0, 0, 0, 0, 0, 0, 0, 0, 0, 0, 0, 0, 0, 0]\n",
      "count:[0, 0, 0, 0, 1, 0, 0, 0, 0, 0, 0, 2, 0, 0, 1, 0, 0, 2, 0, 0, 0, 0, 0, 0, 0, 0]\n",
      "total count : [0, 0, 0, 0, 1, 0, 0, 0, 0, 0, 0, 2, 0, 0, 0, 0, 0, 0, 0, 0, 0, 0, 0, 0, 0, 0]\n"
     ]
    },
    {
     "data": {
      "text/plain": [
       "['e', 'l', 'l']"
      ]
     },
     "execution_count": 3,
     "metadata": {},
     "output_type": "execute_result"
    }
   ],
   "source": [
    "sol2([\"bella\",\"label\",\"roller\"])"
   ]
  },
  {
   "cell_type": "code",
   "execution_count": 4,
   "id": "5d60478f-83b9-4fb1-9138-f146680beac5",
   "metadata": {},
   "outputs": [
    {
     "name": "stdout",
     "output_type": "stream",
     "text": [
      "['a', 'b', 'c', 'd', 'e', 'f', 'g', 'h', 'i', 'j', 'k', 'l', 'm', 'n', 'o', 'p', 'q', 'r', 's', 't', 'u', 'v', 'w', 'x', 'y', 'z']\n"
     ]
    }
   ],
   "source": [
    "char = []\n",
    "for i in range(26) :\n",
    "    char.append(chr(i + ord(\"a\")))\n",
    "print(char)"
   ]
  },
  {
   "cell_type": "code",
   "execution_count": 5,
   "id": "1e083bdb-6b44-44f6-8139-57a1e1e72e92",
   "metadata": {},
   "outputs": [
    {
     "name": "stdout",
     "output_type": "stream",
     "text": [
      "[0, 1, 2, 3, 4, 5, 6, 7, 8, 9, 10, 11, 12, 13, 14, 15, 16, 17, 18, 19, 20, 21, 22, 23, 24, 25]\n"
     ]
    }
   ],
   "source": [
    "num = [] \n",
    "for c in char :\n",
    "    num.append(ord(c) - ord(\"a\"))\n",
    "print(num)"
   ]
  }
 ],
 "metadata": {
  "kernelspec": {
   "display_name": "Python 3 (ipykernel)",
   "language": "python",
   "name": "python3"
  },
  "language_info": {
   "codemirror_mode": {
    "name": "ipython",
    "version": 3
   },
   "file_extension": ".py",
   "mimetype": "text/x-python",
   "name": "python",
   "nbconvert_exporter": "python",
   "pygments_lexer": "ipython3",
   "version": "3.11.7"
  }
 },
 "nbformat": 4,
 "nbformat_minor": 5
}
